{
 "cells": [
  {
   "cell_type": "code",
   "execution_count": 2,
   "metadata": {},
   "outputs": [
    {
     "name": "stdin",
     "output_type": "stream",
     "text": [
      "Введите имя пользователя: pashatick\n",
      " ············\n"
     ]
    }
   ],
   "source": [
    "import requests\n",
    "import json\n",
    "import getpass\n",
    "\n",
    "link = 'https://api.github.com/user/repos'\n",
    "user = input('Введите имя пользователя:')\n",
    "password = getpass.getpass()\n",
    "rep = requests.get(f'{link}', auth=(user,password))\n",
    "\n",
    "with open('User_rep.json','w') as file:\n",
    "    json.dump(rep.json(), file, ensure_ascii=False)"
   ]
  },
  {
   "cell_type": "code",
   "execution_count": null,
   "metadata": {},
   "outputs": [],
   "source": []
  }
 ],
 "metadata": {
  "kernelspec": {
   "display_name": "Python 3",
   "language": "python",
   "name": "python3"
  },
  "language_info": {
   "name": ""
  }
 },
 "nbformat": 4,
 "nbformat_minor": 2
}
