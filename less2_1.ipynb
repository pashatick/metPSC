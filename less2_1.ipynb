{
 "cells": [
  {
   "cell_type": "code",
   "execution_count": 74,
   "metadata": {},
   "outputs": [],
   "source": [
    "import requests as req\n",
    "import pprint\n",
    "from bs4 import BeautifulSoup as bs\n",
    "import pandas as pd\n",
    "import getpass\n"
   ]
  },
  {
   "cell_type": "code",
   "execution_count": 113,
   "metadata": {},
   "outputs": [
    {
     "name": "stdout",
     "output_type": "stream",
     "text": [
      "item.url\n"
     ]
    }
   ],
   "source": [
    "#region = input('Введите регион поиска(лат):')\n",
    "#vacancy = input('Введите вакансию(лат):')\n",
    "#user = 'pashtick@gmail.com'#nput('Введите имя пользователя:')\n",
    "#password = 'soulmotionA1' #getpass.getpass()\n",
    "\n",
    "main_link = f'https://rskrf.ru/ratings/produkty-pitaniya/'\n",
    "link = 'https://rskrf.ru'\n",
    "u_a = {'User-Agents':'Chrome/65.0.3325.181'}\n",
    "res = req.get(f\"{main_link}\",headers=u_a)\n",
    "res.encoding='utf-8'\n",
    "page = bs(res.text,'html.parser')\n",
    "\n",
    "cat_list = page.findAll('div',{'class':'category-item'})\n",
    "for catigories in cat_list:\n",
    "    cat_name = catigories.find('span',{'class':'h5'}).getText()\n",
    "    sub_link = catigories.find('a')['href']\n",
    "    sub_cat = req.get(link+sub_link, headers=u_a)\n",
    "    sub_cat.encoding='utf-8'\n",
    "    sub_cat = bs(sub_cat.text, 'html.parser')\n",
    "    sub_cat_list = sub_cat.findAll('div',{'class':'category-item'})\n",
    "    for sub_catigories in sub_cat_list:\n",
    "        sub_cat_name = sub_catigories.find('span',{'class':'d-xl-block d-none'}).getText()\n",
    "        sub_link2 = sub_catigories.find('a')['href']\n",
    "        prod_link = req.get(link+sub_link2, headers=u_a)\n",
    "        #prod_link.encoding='utf-8'\n",
    "        prod_link = bs(prod_link.text, 'html.parser')\n",
    "        prod_list = prod_link.findAll('div',{'class':'col-xl-4 col-lg-4 col-md-4 product'})\n",
    "        for prod in prod_list:\n",
    "            card = prod.find('div', {'class':'card'}).find('a')[':href']\n",
    "            #card_body = card.find('div',{'class':'card-body'})\n",
    "            #prod_name = card_body.find('h5', {'class':'card-title with-text'})\n",
    "            #name = prod_name.find('a').getText()\n",
    "            #prod_descr = card_body.find('h5').find('a').find('span').getText()\n",
    "            print(card)\n",
    "            break\n",
    "        break\n",
    "    break\n",
    "            "
   ]
  },
  {
   "cell_type": "code",
   "execution_count": null,
   "metadata": {},
   "outputs": [],
   "source": []
  },
  {
   "cell_type": "code",
   "execution_count": null,
   "metadata": {},
   "outputs": [],
   "source": []
  }
 ],
 "metadata": {
  "kernelspec": {
   "display_name": "Python 3",
   "language": "python",
   "name": "python3"
  },
  "language_info": {
   "codemirror_mode": {
    "name": "ipython",
    "version": 3
   },
   "file_extension": ".py",
   "mimetype": "text/x-python",
   "name": "python",
   "nbconvert_exporter": "python",
   "pygments_lexer": "ipython3",
   "version": "3.7.3"
  }
 },
 "nbformat": 4,
 "nbformat_minor": 2
}
